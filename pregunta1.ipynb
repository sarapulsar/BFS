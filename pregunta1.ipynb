{
 "cells": [
  {
   "cell_type": "code",
   "execution_count": 345,
   "id": "bd4b0a32",
   "metadata": {},
   "outputs": [],
   "source": [
    "import random\n",
    "from random import randint\n",
    "from collections import deque \n"
   ]
  },
  {
   "cell_type": "code",
   "execution_count": 393,
   "id": "4c47fe4b",
   "metadata": {},
   "outputs": [
    {
     "name": "stdout",
     "output_type": "stream",
     "text": [
      "Nodos 30\n",
      "Error son iguales\n",
      "Error son iguales\n",
      "Error son iguales\n",
      "Error son iguales\n",
      "Error son iguales\n",
      "Error son iguales\n",
      "los enlaces 165\n"
     ]
    }
   ],
   "source": [
    "ORDER = 100\n",
    "with open(\"Relaciones.txt\", \"w+\") as f:\n",
    "    n = randint(7, ORDER)# Genera los nodos se tiene en cuenta el problema de los 6\n",
    "    nEdges = randint(1, n * (n - 1) // 2) ##Genera los enlaces\n",
    "    #f.write(f\"{n}\\n\")\n",
    "    print(\"Nodos\",n)\n",
    "    for i in range(1, nEdges):\n",
    "        v1 = randint(0, n-1) \n",
    "        v2 = randint(0, n-1)\n",
    "        while (v1==v2):\n",
    "            v1 = randint(0, n-1) \n",
    "            v2 = randint(0, n-1)\n",
    "            print(\"Error son iguales\")   \n",
    "        f.write(f\"{v1} {v2}\\n\")\n",
    "print(\"los enlaces\",nEdges) \n",
    "    #f.write(\"0\")\n",
    "    "
   ]
  },
  {
   "cell_type": "markdown",
   "id": "bc2e48f5",
   "metadata": {},
   "source": [
    "# DICCIONARIO"
   ]
  },
  {
   "cell_type": "code",
   "execution_count": 394,
   "id": "e50eb982",
   "metadata": {},
   "outputs": [],
   "source": [
    "f=open(\"Relaciones.txt\", \"r\")\n",
    "#f=f.read().split()\n",
    "#f=f.read()\n",
    "grafo={}\n",
    "#print(f)\n",
    "for i in f:\n",
    "    columna=i.split()\n",
    "    grafo.setdefault(columna[0],[]).append(columna[1])\n",
    "    grafo.setdefault(columna[1],[]).append(columna[0])\n",
    "    "
   ]
  },
  {
   "cell_type": "code",
   "execution_count": 395,
   "id": "2bc1e519",
   "metadata": {},
   "outputs": [
    {
     "name": "stdout",
     "output_type": "stream",
     "text": [
      "{'19': ['14', '17', '18', '17', '14', '28', '21', '26', '25', '4', '28', '26', '11', '20', '7', '29', '16', '24', '14', '14', '14', '25', '24', '7'], '14': ['19', '27', '19', '29', '1', '20', '3', '19', '19', '19', '20'], '2': ['11', '12', '27', '29', '22', '9', '18', '15', '1', '20', '15', '16', '26', '6'], '11': ['2', '8', '6', '7', '0', '7', '19', '20', '25'], '16': ['20', '1', '27', '7', '19', '4', '2'], '20': ['16', '28', '0', '21', '15', '12', '6', '29', '11', '14', '19', '3', '21', '2', '5', '14', '28', '23', '21', '6', '5'], '17': ['6', '19', '1', '19', '22', '15', '21', '23'], '6': ['17', '11', '4', '20', '9', '22', '21', '21', '1', '20', '2'], '8': ['26', '11', '4', '27', '1', '26', '24', '28', '5', '28', '28', '10'], '26': ['8', '0', '8', '19', '19', '3', '7', '13', '2'], '1': ['16', '23', '24', '17', '8', '12', '14', '6', '2', '7', '22'], '0': ['23', '26', '20', '12', '12', '9', '11', '5', '18', '7', '24'], '23': ['0', '1', '27', '27', '21', '20', '9', '17', '24', '25'], '10': ['12', '9', '13', '22', '7', '18', '8'], '12': ['10', '2', '29', '21', '1', '27', '0', '20', '0', '15', '7', '18', '25'], '22': ['28', '2', '9', '25', '6', '25', '15', '17', '10', '9', '1', '24', '15'], '28': ['22', '20', '19', '19', '8', '8', '29', '13', '8', '20'], '4': ['8', '27', '6', '19', '24', '29', '16'], '27': ['8', '14', '9', '23', '2', '24', '4', '12', '16', '3', '23'], '25': ['29', '19', '22', '7', '22', '18', '7', '19', '11', '23', '12'], '29': ['25', '12', '2', '14', '5', '4', '20', '19', '5', '28', '21', '5'], '18': ['19', '2', '9', '25', '0', '10', '12'], '24': ['1', '27', '8', '13', '4', '19', '0', '19', '23', '22'], '9': ['27', '2', '10', '22', '0', '18', '7', '6', '13', '22', '23'], '21': ['19', '20', '12', '6', '6', '20', '7', '29', '15', '23', '17', '20'], '7': ['11', '5', '11', '9', '25', '19', '16', '25', '21', '12', '26', '10', '1', '0', '19'], '5': ['29', '7', '0', '8', '29', '3', '20', '29', '20'], '13': ['10', '24', '15', '9', '15', '28', '26'], '15': ['20', '2', '22', '13', '12', '17', '13', '21', '2', '22'], '3': ['27', '20', '14', '26', '5']}\n",
      "<class 'dict'>\n"
     ]
    }
   ],
   "source": [
    "print(grafo)\n",
    "print(type(grafo))"
   ]
  },
  {
   "cell_type": "code",
   "execution_count": 415,
   "id": "5196f92a",
   "metadata": {},
   "outputs": [
    {
     "ename": "TypeError",
     "evalue": "'<=' not supported between instances of 'int' and 'str'",
     "output_type": "error",
     "traceback": [
      "\u001b[1;31m---------------------------------------------------------------------------\u001b[0m",
      "\u001b[1;31mTypeError\u001b[0m                                 Traceback (most recent call last)",
      "\u001b[1;32mC:\\Users\\SARACA~1\\AppData\\Local\\Temp/ipykernel_12912/4100460590.py\u001b[0m in \u001b[0;36m<module>\u001b[1;34m\u001b[0m\n\u001b[0;32m     23\u001b[0m             \u001b[0mqueue\u001b[0m\u001b[1;33m.\u001b[0m\u001b[0mput\u001b[0m\u001b[1;33m(\u001b[0m\u001b[0mv\u001b[0m\u001b[1;33m)\u001b[0m\u001b[1;33m\u001b[0m\u001b[1;33m\u001b[0m\u001b[0m\n\u001b[0;32m     24\u001b[0m             \u001b[0mnivel\u001b[0m\u001b[1;33m[\u001b[0m\u001b[0mv\u001b[0m\u001b[1;33m]\u001b[0m\u001b[1;33m=\u001b[0m\u001b[0mnivel\u001b[0m\u001b[1;33m[\u001b[0m\u001b[0mu\u001b[0m\u001b[1;33m]\u001b[0m\u001b[1;33m+\u001b[0m\u001b[1;36m1\u001b[0m\u001b[1;33m\u001b[0m\u001b[1;33m\u001b[0m\u001b[0m\n\u001b[1;32m---> 25\u001b[1;33m             \u001b[1;32mif\u001b[0m\u001b[1;33m(\u001b[0m\u001b[0mnivel\u001b[0m\u001b[1;33m[\u001b[0m\u001b[0mv\u001b[0m\u001b[1;33m]\u001b[0m\u001b[1;33m<=\u001b[0m\u001b[1;34m'6'\u001b[0m\u001b[1;33m)\u001b[0m\u001b[1;33m:\u001b[0m\u001b[1;33m\u001b[0m\u001b[1;33m\u001b[0m\u001b[0m\n\u001b[0m\u001b[0;32m     26\u001b[0m                 \u001b[1;32mTrue\u001b[0m\u001b[1;33m\u001b[0m\u001b[1;33m\u001b[0m\u001b[0m\n\u001b[0;32m     27\u001b[0m \u001b[1;33m\u001b[0m\u001b[0m\n",
      "\u001b[1;31mTypeError\u001b[0m: '<=' not supported between instances of 'int' and 'str'"
     ]
    }
   ],
   "source": [
    "visitado={}\n",
    "nivel={}\n",
    "padre={}\n",
    "bfs_salida =[]\n",
    "ruta=[]\n",
    "queue=Queue() # inicializar la cola\n",
    "\n",
    "for node in grafo.keys():\n",
    "    visitado[node]=False\n",
    "    padre[node]= None # inicializar\n",
    "    nivel[node]=-1# inicializar\n",
    "S=\"0\"\n",
    "visitado[S]=True\n",
    "nivel[S]=0\n",
    "queue.put(S)\n",
    "while not queue.empty():\n",
    "    u=queue.get()\n",
    "    bfs_salida.append(u)\n",
    "    for v in grafo[u]:\n",
    "        if not visitado[v]:\n",
    "            visitado[v]=True\n",
    "            padre[v]=u\n",
    "            queue.put(v)\n",
    "            nivel[v]=nivel[u]+1\n",
    "            \n",
    "print(bfs_salida)\n",
    "#if len(nivel)<=6: #si es menor a 6 se cumple la 6 grados\n",
    "    #print(\"Hay una ruta con 6 saltos o menos\")\n",
    "print('Ruta: ',nivel)"
   ]
  },
  {
   "cell_type": "code",
   "execution_count": 414,
   "id": "6b2bfe0b",
   "metadata": {},
   "outputs": [
    {
     "name": "stdout",
     "output_type": "stream",
     "text": [
      "<class 'dict'>\n"
     ]
    }
   ],
   "source": [
    "print(type(nivel))"
   ]
  },
  {
   "cell_type": "code",
   "execution_count": null,
   "id": "71346c03",
   "metadata": {},
   "outputs": [],
   "source": []
  },
  {
   "cell_type": "code",
   "execution_count": null,
   "id": "2674fd6c",
   "metadata": {},
   "outputs": [],
   "source": []
  },
  {
   "cell_type": "code",
   "execution_count": null,
   "id": "49974ab9",
   "metadata": {},
   "outputs": [],
   "source": []
  }
 ],
 "metadata": {
  "kernelspec": {
   "display_name": "Python 3 (ipykernel)",
   "language": "python",
   "name": "python3"
  },
  "language_info": {
   "codemirror_mode": {
    "name": "ipython",
    "version": 3
   },
   "file_extension": ".py",
   "mimetype": "text/x-python",
   "name": "python",
   "nbconvert_exporter": "python",
   "pygments_lexer": "ipython3",
   "version": "3.9.7"
  }
 },
 "nbformat": 4,
 "nbformat_minor": 5
}
