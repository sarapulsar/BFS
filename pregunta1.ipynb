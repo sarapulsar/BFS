{
 "cells": [
  {
   "cell_type": "code",
   "execution_count": 345,
   "id": "bd4b0a32",
   "metadata": {},
   "outputs": [],
   "source": [
    "import random\n",
    "from random import randint\n",
    "from collections import deque \n"
   ]
  },
  {
   "cell_type": "code",
   "execution_count": 419,
   "id": "4c47fe4b",
   "metadata": {},
   "outputs": [
    {
     "name": "stdout",
     "output_type": "stream",
     "text": [
      "Nodos 7\n",
      "Error son iguales\n",
      "los enlaces 11\n"
     ]
    }
   ],
   "source": [
    "ORDER = 10\n",
    "with open(\"Relaciones.txt\", \"w+\") as f:\n",
    "    n = randint(7, ORDER)# Genera los nodos se tiene en cuenta el problema de los 6\n",
    "    nEdges = randint(1, n * (n - 1) // 2) ##Genera los enlaces\n",
    "    #f.write(f\"{n}\\n\")\n",
    "    print(\"Nodos\",n)\n",
    "    for i in range(1, nEdges):\n",
    "        v1 = randint(0, n-1) \n",
    "        v2 = randint(0, n-1)\n",
    "        while (v1==v2):\n",
    "            v1 = randint(0, n-1) \n",
    "            v2 = randint(0, n-1)\n",
    "            print(\"Error son iguales\")   \n",
    "        f.write(f\"{v1} {v2}\\n\")\n",
    "print(\"los enlaces\",nEdges) \n",
    "    #f.write(\"0\")\n",
    "    "
   ]
  },
  {
   "cell_type": "markdown",
   "id": "bc2e48f5",
   "metadata": {},
   "source": [
    "# DICCIONARIO"
   ]
  },
  {
   "cell_type": "code",
   "execution_count": 420,
   "id": "e50eb982",
   "metadata": {},
   "outputs": [],
   "source": [
    "f=open(\"Relaciones.txt\", \"r\")\n",
    "#f=f.read().split()\n",
    "#f=f.read()\n",
    "grafo={}\n",
    "#print(f)\n",
    "for i in f:\n",
    "    columna=i.split()\n",
    "    grafo.setdefault(columna[0],[]).append(columna[1])\n",
    "    grafo.setdefault(columna[1],[]).append(columna[0])\n",
    "    "
   ]
  },
  {
   "cell_type": "code",
   "execution_count": 421,
   "id": "2bc1e519",
   "metadata": {},
   "outputs": [
    {
     "name": "stdout",
     "output_type": "stream",
     "text": [
      "{'5': ['2', '6', '6'], '2': ['5', '1'], '3': ['6', '0', '6', '6'], '6': ['3', '1', '4', '3', '3', '5', '5'], '1': ['6', '2'], '0': ['3'], '4': ['6']}\n",
      "<class 'dict'>\n"
     ]
    }
   ],
   "source": [
    "print(grafo)\n",
    "print(type(grafo))"
   ]
  },
  {
   "cell_type": "code",
   "execution_count": 422,
   "id": "8e0a1eeb",
   "metadata": {},
   "outputs": [
    {
     "name": "stdout",
     "output_type": "stream",
     "text": [
      "['0', '3', '6', '1', '4', '5', '2']\n",
      "Ruta:  {'5': 3, '2': 4, '3': 1, '6': 2, '1': 3, '0': 0, '4': 3}\n"
     ]
    }
   ],
   "source": [
    "visitado={}\n",
    "nivel={}\n",
    "padre={}\n",
    "bfs_salida =[]\n",
    "ruta=[]\n",
    "queue=Queue() # inicializar la cola\n",
    "\n",
    "for node in grafo.keys():\n",
    "    visitado[node]=False\n",
    "    padre[node]= None # inicializar\n",
    "    nivel[node]=-1# inicializar\n",
    "S=\"0\"\n",
    "visitado[S]=True\n",
    "nivel[S]=0\n",
    "queue.put(S)\n",
    "while not queue.empty():\n",
    "    u=queue.get()\n",
    "    bfs_salida.append(u)\n",
    "    for v in grafo[u]:\n",
    "        if not visitado[v]:\n",
    "            visitado[v]=True\n",
    "            padre[v]=u\n",
    "            queue.put(v)\n",
    "            nivel[v]=nivel[u]+1\n",
    "            \n",
    "print(bfs_salida)\n",
    "#if len(nivel)<=6: #si es menor a 6 se cumple la 6 grados\n",
    "    #print(\"Hay una ruta con 6 saltos o menos\")\n",
    "print('Ruta: ',nivel)\n"
   ]
  },
  {
   "cell_type": "code",
   "execution_count": 423,
   "id": "e48c042c",
   "metadata": {},
   "outputs": [
    {
     "name": "stdout",
     "output_type": "stream",
     "text": [
      "<class 'dict'>\n"
     ]
    }
   ],
   "source": [
    "print(type(nivel))"
   ]
  },
  {
   "cell_type": "code",
   "execution_count": 424,
   "id": "e155de3b",
   "metadata": {},
   "outputs": [
    {
     "name": "stdout",
     "output_type": "stream",
     "text": [
      "['0', '3', '6']\n"
     ]
    }
   ],
   "source": [
    "v=\"6\"\n",
    "ruta=[]\n",
    "while v is not None: \n",
    "    ruta.append(v)\n",
    "    v=padre[v]\n",
    "ruta.reverse()\n",
    "print(ruta)"
   ]
  },
  {
   "cell_type": "code",
   "execution_count": null,
   "id": "29ad42d2",
   "metadata": {},
   "outputs": [],
   "source": []
  },
  {
   "cell_type": "code",
   "execution_count": null,
   "id": "3e8afef2",
   "metadata": {},
   "outputs": [],
   "source": []
  }
 ],
 "metadata": {
  "kernelspec": {
   "display_name": "Python 3 (ipykernel)",
   "language": "python",
   "name": "python3"
  },
  "language_info": {
   "codemirror_mode": {
    "name": "ipython",
    "version": 3
   },
   "file_extension": ".py",
   "mimetype": "text/x-python",
   "name": "python",
   "nbconvert_exporter": "python",
   "pygments_lexer": "ipython3",
   "version": "3.9.7"
  }
 },
 "nbformat": 4,
 "nbformat_minor": 5
}
