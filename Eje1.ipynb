{
 "cells": [
  {
   "cell_type": "markdown",
   "id": "1588f793",
   "metadata": {},
   "source": [
    "## Funcion para recorrer en extension"
   ]
  },
  {
   "cell_type": "code",
   "execution_count": 1,
   "id": "2f02be7e",
   "metadata": {},
   "outputs": [],
   "source": [
    "from collections import deque \n",
    "\n",
    "def BFS(graph,start,end): # Se define función por usuario BFS= Amplitud, \n",
    "     #Caminos se van guardando en vector\n",
    "    q=deque()#deque colección como cola o pila, descolocar\n",
    "    q.append([start]) # Adicionando el primer dato start\n",
    "    while q:# mientras que la cola no este vacia\n",
    "        tmp_path = list(q.popleft())#se saca el primer elemento de la cola, extraer de la parte izquierda\n",
    "        last_node = tmp_path[len(tmp_path)-1]#toma el ultimo nodo visitado. \n",
    "        if last_node == end: #Verificando si el nodo llegada.\n",
    "            print('Ruta: ',tmp_path) #imprime la ruta\n",
    "            if len(tmp_path)<=6: #si es menor a 6 se cumple la 6 grados\n",
    "                print(\"Hay una ruta con 6 saltos o menos\")\n",
    "                print('Ruta: ',tmp_path)\n",
    "                #break # sale de while, se puede comentar para ver las demas rutas\n",
    "        for link_node in graph[last_node]: #recorre los adyacentes al ultimo nodo visitado\n",
    "            if link_node not in tmp_path:#Si no esta en camino temporal entonces, lo agrega\n",
    "                new_path = []#construye todos los posibles caminos\n",
    "                new_path = tmp_path + [link_node]#agranda la ruta\n",
    "                q.append(new_path)#agrega a la cola"
   ]
  },
  {
   "cell_type": "markdown",
   "id": "87fd1511",
   "metadata": {},
   "source": [
    "## Ejecucion"
   ]
  },
  {
   "cell_type": "code",
   "execution_count": 2,
   "id": "caef7d6a",
   "metadata": {},
   "outputs": [
    {
     "name": "stdout",
     "output_type": "stream",
     "text": [
      "Ruta:  ['A', 'E', 'F', 'L', 'R']\n",
      "Hay una ruta con 6 saltos o menos\n",
      "Ruta:  ['A', 'E', 'F', 'L', 'R']\n",
      "Ruta:  ['A', 'B', 'D', 'F', 'L', 'R']\n",
      "Hay una ruta con 6 saltos o menos\n",
      "Ruta:  ['A', 'B', 'D', 'F', 'L', 'R']\n",
      "Ruta:  ['A', 'E', 'D', 'F', 'L', 'R']\n",
      "Hay una ruta con 6 saltos o menos\n",
      "Ruta:  ['A', 'E', 'D', 'F', 'L', 'R']\n",
      "Ruta:  ['A', 'H', 'B', 'D', 'F', 'L', 'R']\n",
      "Ruta:  ['A', 'B', 'C', 'D', 'F', 'L', 'R']\n",
      "Ruta:  ['A', 'H', 'B', 'C', 'D', 'F', 'L', 'R']\n"
     ]
    }
   ],
   "source": [
    "graph = {'A': ['H', 'B','E'],\n",
    "             'B': ['A','C', 'D'],\n",
    "             'C': ['D'],\n",
    "             'D': ['F'],\n",
    "             'E': ['D', 'F'],\n",
    "             'F': ['L','B','H'],\n",
    "             'H':['B'],\n",
    "             'L':['R'],\n",
    "              'R':[]}\n",
    "BFS(graph,\"A\",\"R\")"
   ]
  },
  {
   "cell_type": "code",
   "execution_count": null,
   "id": "5e2d6e7e",
   "metadata": {},
   "outputs": [],
   "source": []
  },
  {
   "cell_type": "code",
   "execution_count": null,
   "id": "79379ee4",
   "metadata": {},
   "outputs": [],
   "source": []
  }
 ],
 "metadata": {
  "kernelspec": {
   "display_name": "Python 3 (ipykernel)",
   "language": "python",
   "name": "python3"
  },
  "language_info": {
   "codemirror_mode": {
    "name": "ipython",
    "version": 3
   },
   "file_extension": ".py",
   "mimetype": "text/x-python",
   "name": "python",
   "nbconvert_exporter": "python",
   "pygments_lexer": "ipython3",
   "version": "3.9.7"
  }
 },
 "nbformat": 4,
 "nbformat_minor": 5
}
